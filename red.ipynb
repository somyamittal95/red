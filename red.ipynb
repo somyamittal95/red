{
 "cells": [
  {
   "cell_type": "code",
   "execution_count": null,
   "metadata": {},
   "outputs": [],
   "source": [
    "#Credit Card Case Study Analysis."
   ]
  },
  {
   "cell_type": "code",
   "execution_count": 56,
   "metadata": {},
   "outputs": [],
   "source": [
    "import pandas as pd\n",
    "import numpy as np\n",
    "import matplotlib.pyplot as plt\n",
    "import seaborn as sns"
   ]
  },
  {
   "cell_type": "markdown",
   "metadata": {},
   "source": [
    "I am assuming 10 records in my data .Ideally more than 30 samples should be taken as according to central limit theorem more than 30 samples will follow Normal Distribution and can predict my population parameters in a better way .\n",
    "But due to computational ease we go for 10 samples only."
   ]
  },
  {
   "cell_type": "raw",
   "metadata": {},
   "source": [
    "1) average card balance is Rs 1000\n",
    "2) each card has an interest rate of 15%\n",
    "3) membership fee is Rs 20 per card\n",
    "4) loss rate is 3% (NOTE: what are the interpretations of this ? state your assumption CLEARLY when solving  )\n",
    "5) Rs 25 operating cost per card\n",
    "6) Rs 10 affiliation fee per card (cost to the group organization itself, so that their members get this awesome card program)\n",
    "7) 6.5% cost of funds (that credit card company must pay to the bank where it gets money)"
   ]
  },
  {
   "cell_type": "code",
   "execution_count": 4,
   "metadata": {},
   "outputs": [],
   "source": [
    "data=pd.DataFrame({'card_balance':[1000,1200,800,1300,700,600,1400,1000,1150,850],'cost_of_funds':[200,1500,800,2300,200,400,2000,2000,1500,500],'fund_unpaid':[0,300,0,1000,0,0,600,1000,350,0]})"
   ]
  },
  {
   "cell_type": "code",
   "execution_count": 5,
   "metadata": {},
   "outputs": [
    {
     "data": {
      "text/html": [
       "<div>\n",
       "<style scoped>\n",
       "    .dataframe tbody tr th:only-of-type {\n",
       "        vertical-align: middle;\n",
       "    }\n",
       "\n",
       "    .dataframe tbody tr th {\n",
       "        vertical-align: top;\n",
       "    }\n",
       "\n",
       "    .dataframe thead th {\n",
       "        text-align: right;\n",
       "    }\n",
       "</style>\n",
       "<table border=\"1\" class=\"dataframe\">\n",
       "  <thead>\n",
       "    <tr style=\"text-align: right;\">\n",
       "      <th></th>\n",
       "      <th>card_balance</th>\n",
       "      <th>cost_of_funds</th>\n",
       "      <th>fund_unpaid</th>\n",
       "    </tr>\n",
       "  </thead>\n",
       "  <tbody>\n",
       "    <tr>\n",
       "      <th>0</th>\n",
       "      <td>1000</td>\n",
       "      <td>200</td>\n",
       "      <td>0</td>\n",
       "    </tr>\n",
       "    <tr>\n",
       "      <th>1</th>\n",
       "      <td>1200</td>\n",
       "      <td>1500</td>\n",
       "      <td>300</td>\n",
       "    </tr>\n",
       "    <tr>\n",
       "      <th>2</th>\n",
       "      <td>800</td>\n",
       "      <td>800</td>\n",
       "      <td>0</td>\n",
       "    </tr>\n",
       "    <tr>\n",
       "      <th>3</th>\n",
       "      <td>1300</td>\n",
       "      <td>2300</td>\n",
       "      <td>1000</td>\n",
       "    </tr>\n",
       "    <tr>\n",
       "      <th>4</th>\n",
       "      <td>700</td>\n",
       "      <td>200</td>\n",
       "      <td>0</td>\n",
       "    </tr>\n",
       "    <tr>\n",
       "      <th>5</th>\n",
       "      <td>600</td>\n",
       "      <td>400</td>\n",
       "      <td>0</td>\n",
       "    </tr>\n",
       "    <tr>\n",
       "      <th>6</th>\n",
       "      <td>1400</td>\n",
       "      <td>2000</td>\n",
       "      <td>600</td>\n",
       "    </tr>\n",
       "    <tr>\n",
       "      <th>7</th>\n",
       "      <td>1000</td>\n",
       "      <td>2000</td>\n",
       "      <td>1000</td>\n",
       "    </tr>\n",
       "    <tr>\n",
       "      <th>8</th>\n",
       "      <td>1150</td>\n",
       "      <td>1500</td>\n",
       "      <td>350</td>\n",
       "    </tr>\n",
       "    <tr>\n",
       "      <th>9</th>\n",
       "      <td>850</td>\n",
       "      <td>500</td>\n",
       "      <td>0</td>\n",
       "    </tr>\n",
       "  </tbody>\n",
       "</table>\n",
       "</div>"
      ],
      "text/plain": [
       "   card_balance  cost_of_funds  fund_unpaid\n",
       "0          1000            200            0\n",
       "1          1200           1500          300\n",
       "2           800            800            0\n",
       "3          1300           2300         1000\n",
       "4           700            200            0\n",
       "5           600            400            0\n",
       "6          1400           2000          600\n",
       "7          1000           2000         1000\n",
       "8          1150           1500          350\n",
       "9           850            500            0"
      ]
     },
     "execution_count": 5,
     "metadata": {},
     "output_type": "execute_result"
    }
   ],
   "source": [
    "data"
   ]
  },
  {
   "cell_type": "code",
   "execution_count": 6,
   "metadata": {},
   "outputs": [
    {
     "data": {
      "text/html": [
       "<div>\n",
       "<style scoped>\n",
       "    .dataframe tbody tr th:only-of-type {\n",
       "        vertical-align: middle;\n",
       "    }\n",
       "\n",
       "    .dataframe tbody tr th {\n",
       "        vertical-align: top;\n",
       "    }\n",
       "\n",
       "    .dataframe thead th {\n",
       "        text-align: right;\n",
       "    }\n",
       "</style>\n",
       "<table border=\"1\" class=\"dataframe\">\n",
       "  <thead>\n",
       "    <tr style=\"text-align: right;\">\n",
       "      <th></th>\n",
       "      <th>card_balance</th>\n",
       "      <th>cost_of_funds</th>\n",
       "      <th>fund_unpaid</th>\n",
       "    </tr>\n",
       "  </thead>\n",
       "  <tbody>\n",
       "    <tr>\n",
       "      <th>0</th>\n",
       "      <td>1000</td>\n",
       "      <td>200</td>\n",
       "      <td>0</td>\n",
       "    </tr>\n",
       "    <tr>\n",
       "      <th>1</th>\n",
       "      <td>1200</td>\n",
       "      <td>1500</td>\n",
       "      <td>300</td>\n",
       "    </tr>\n",
       "    <tr>\n",
       "      <th>2</th>\n",
       "      <td>800</td>\n",
       "      <td>800</td>\n",
       "      <td>0</td>\n",
       "    </tr>\n",
       "    <tr>\n",
       "      <th>3</th>\n",
       "      <td>1300</td>\n",
       "      <td>2300</td>\n",
       "      <td>1000</td>\n",
       "    </tr>\n",
       "    <tr>\n",
       "      <th>4</th>\n",
       "      <td>700</td>\n",
       "      <td>200</td>\n",
       "      <td>0</td>\n",
       "    </tr>\n",
       "    <tr>\n",
       "      <th>5</th>\n",
       "      <td>600</td>\n",
       "      <td>400</td>\n",
       "      <td>0</td>\n",
       "    </tr>\n",
       "    <tr>\n",
       "      <th>6</th>\n",
       "      <td>1400</td>\n",
       "      <td>2000</td>\n",
       "      <td>600</td>\n",
       "    </tr>\n",
       "    <tr>\n",
       "      <th>7</th>\n",
       "      <td>1000</td>\n",
       "      <td>2000</td>\n",
       "      <td>1000</td>\n",
       "    </tr>\n",
       "    <tr>\n",
       "      <th>8</th>\n",
       "      <td>1150</td>\n",
       "      <td>1500</td>\n",
       "      <td>350</td>\n",
       "    </tr>\n",
       "    <tr>\n",
       "      <th>9</th>\n",
       "      <td>850</td>\n",
       "      <td>500</td>\n",
       "      <td>0</td>\n",
       "    </tr>\n",
       "  </tbody>\n",
       "</table>\n",
       "</div>"
      ],
      "text/plain": [
       "   card_balance  cost_of_funds  fund_unpaid\n",
       "0          1000            200            0\n",
       "1          1200           1500          300\n",
       "2           800            800            0\n",
       "3          1300           2300         1000\n",
       "4           700            200            0\n",
       "5           600            400            0\n",
       "6          1400           2000          600\n",
       "7          1000           2000         1000\n",
       "8          1150           1500          350\n",
       "9           850            500            0"
      ]
     },
     "execution_count": 6,
     "metadata": {},
     "output_type": "execute_result"
    }
   ],
   "source": [
    "data"
   ]
  },
  {
   "cell_type": "code",
   "execution_count": 7,
   "metadata": {},
   "outputs": [],
   "source": [
    "from scipy.stats import shapiro\n"
   ]
  },
  {
   "cell_type": "code",
   "execution_count": 58,
   "metadata": {},
   "outputs": [
    {
     "name": "stderr",
     "output_type": "stream",
     "text": [
      "C:\\ProgramData\\Anaconda3\\lib\\site-packages\\scipy\\stats\\stats.py:1713: FutureWarning: Using a non-tuple sequence for multidimensional indexing is deprecated; use `arr[tuple(seq)]` instead of `arr[seq]`. In the future this will be interpreted as an array index, `arr[np.array(seq)]`, which will result either in an error or a different result.\n",
      "  return np.add.reduce(sorted[indexer] * weights, axis=axis) / sumval\n"
     ]
    },
    {
     "data": {
      "text/plain": [
       "<matplotlib.axes._subplots.AxesSubplot at 0x19cb5437390>"
      ]
     },
     "execution_count": 58,
     "metadata": {},
     "output_type": "execute_result"
    },
    {
     "data": {
      "image/png": "[encoded data removed]",
      "text/plain": [
       "<Figure size 432x288 with 1 Axes>"
      ]
     },
     "metadata": {
      "needs_background": "light"
     },
     "output_type": "display_data"
    }
   ],
   "source": [
    "sns.distplot(data['card_balance'])"
   ]
  },
  {
   "cell_type": "code",
   "execution_count": 8,
   "metadata": {},
   "outputs": [
    {
     "data": {
      "text/plain": [
       "(0.9707725644111633, 0.897914469242096)"
      ]
     },
     "execution_count": 8,
     "metadata": {},
     "output_type": "execute_result"
    }
   ],
   "source": [
    "shapiro(data['card_balance'])#Thus follows normal distribution."
   ]
  },
  {
   "cell_type": "code",
   "execution_count": 9,
   "metadata": {},
   "outputs": [
    {
     "data": {
      "text/plain": [
       "(0.8858156800270081, 0.1520647406578064)"
      ]
     },
     "execution_count": 9,
     "metadata": {},
     "output_type": "execute_result"
    }
   ],
   "source": [
    "shapiro(data['cost_of_funds'])"
   ]
  },
  {
   "cell_type": "code",
   "execution_count": 59,
   "metadata": {},
   "outputs": [
    {
     "data": {
      "text/plain": [
       "<matplotlib.axes._subplots.AxesSubplot at 0x19cb5437080>"
      ]
     },
     "execution_count": 59,
     "metadata": {},
     "output_type": "execute_result"
    },
    {
     "data": {
      "image/png": "[encoded data removed]",
      "text/plain": [
       "<Figure size 432x288 with 1 Axes>"
      ]
     },
     "metadata": {
      "needs_background": "light"
     },
     "output_type": "display_data"
    }
   ],
   "source": [
    "sns.distplot(data['cost_of_funds'])"
   ]
  },
  {
   "cell_type": "code",
   "execution_count": 10,
   "metadata": {},
   "outputs": [],
   "source": [
    "#p value greater than 0.05.\n",
    "#Thus reject null hpothesis that distribution is normal.Thereby, distribution follows NormalDistribution."
   ]
  },
  {
   "cell_type": "code",
   "execution_count": 11,
   "metadata": {},
   "outputs": [],
   "source": [
    "#final_unpaid will should include membership fee,card_operating cost and affiliation fee."
   ]
  },
  {
   "cell_type": "code",
   "execution_count": 12,
   "metadata": {},
   "outputs": [],
   "source": [
    "data['final_unpaid']=data['fund_unpaid']+20+25+10"
   ]
  },
  {
   "cell_type": "code",
   "execution_count": 25,
   "metadata": {},
   "outputs": [
    {
     "data": {
      "text/html": [
       "<div>\n",
       "<style scoped>\n",
       "    .dataframe tbody tr th:only-of-type {\n",
       "        vertical-align: middle;\n",
       "    }\n",
       "\n",
       "    .dataframe tbody tr th {\n",
       "        vertical-align: top;\n",
       "    }\n",
       "\n",
       "    .dataframe thead th {\n",
       "        text-align: right;\n",
       "    }\n",
       "</style>\n",
       "<table border=\"1\" class=\"dataframe\">\n",
       "  <thead>\n",
       "    <tr style=\"text-align: right;\">\n",
       "      <th></th>\n",
       "      <th>card_balance</th>\n",
       "      <th>cost_of_funds</th>\n",
       "      <th>fund_unpaid</th>\n",
       "      <th>final_unpaid</th>\n",
       "    </tr>\n",
       "  </thead>\n",
       "  <tbody>\n",
       "    <tr>\n",
       "      <th>0</th>\n",
       "      <td>1000</td>\n",
       "      <td>200</td>\n",
       "      <td>0</td>\n",
       "      <td>55</td>\n",
       "    </tr>\n",
       "    <tr>\n",
       "      <th>1</th>\n",
       "      <td>1200</td>\n",
       "      <td>1500</td>\n",
       "      <td>300</td>\n",
       "      <td>355</td>\n",
       "    </tr>\n",
       "    <tr>\n",
       "      <th>2</th>\n",
       "      <td>800</td>\n",
       "      <td>800</td>\n",
       "      <td>0</td>\n",
       "      <td>55</td>\n",
       "    </tr>\n",
       "    <tr>\n",
       "      <th>3</th>\n",
       "      <td>1300</td>\n",
       "      <td>2300</td>\n",
       "      <td>1000</td>\n",
       "      <td>1055</td>\n",
       "    </tr>\n",
       "    <tr>\n",
       "      <th>4</th>\n",
       "      <td>700</td>\n",
       "      <td>200</td>\n",
       "      <td>0</td>\n",
       "      <td>55</td>\n",
       "    </tr>\n",
       "    <tr>\n",
       "      <th>5</th>\n",
       "      <td>600</td>\n",
       "      <td>400</td>\n",
       "      <td>0</td>\n",
       "      <td>55</td>\n",
       "    </tr>\n",
       "    <tr>\n",
       "      <th>6</th>\n",
       "      <td>1400</td>\n",
       "      <td>2000</td>\n",
       "      <td>600</td>\n",
       "      <td>655</td>\n",
       "    </tr>\n",
       "    <tr>\n",
       "      <th>7</th>\n",
       "      <td>1000</td>\n",
       "      <td>2000</td>\n",
       "      <td>1000</td>\n",
       "      <td>1055</td>\n",
       "    </tr>\n",
       "    <tr>\n",
       "      <th>8</th>\n",
       "      <td>1150</td>\n",
       "      <td>1500</td>\n",
       "      <td>350</td>\n",
       "      <td>405</td>\n",
       "    </tr>\n",
       "    <tr>\n",
       "      <th>9</th>\n",
       "      <td>850</td>\n",
       "      <td>500</td>\n",
       "      <td>0</td>\n",
       "      <td>55</td>\n",
       "    </tr>\n",
       "  </tbody>\n",
       "</table>\n",
       "</div>"
      ],
      "text/plain": [
       "   card_balance  cost_of_funds  fund_unpaid  final_unpaid\n",
       "0          1000            200            0            55\n",
       "1          1200           1500          300           355\n",
       "2           800            800            0            55\n",
       "3          1300           2300         1000          1055\n",
       "4           700            200            0            55\n",
       "5           600            400            0            55\n",
       "6          1400           2000          600           655\n",
       "7          1000           2000         1000          1055\n",
       "8          1150           1500          350           405\n",
       "9           850            500            0            55"
      ]
     },
     "execution_count": 25,
     "metadata": {},
     "output_type": "execute_result"
    }
   ],
   "source": [
    "data"
   ]
  },
  {
   "cell_type": "raw",
   "metadata": {},
   "source": [
    "Now the profit of 15% will be calculated on the final_unpaid amount.\n",
    "  i) Interest rate is simple interest.\n",
    "  ii) Interest is calculated on a daily basis.\n",
    "  "
   ]
  },
  {
   "cell_type": "markdown",
   "metadata": {},
   "source": [
    "Q1: How much profit % is generated in 1 year?"
   ]
  },
  {
   "cell_type": "code",
   "execution_count": 15,
   "metadata": {},
   "outputs": [],
   "source": [
    "data['Profit_per_day']=(15/100)*data['final_unpaid']"
   ]
  },
  {
   "cell_type": "code",
   "execution_count": 20,
   "metadata": {},
   "outputs": [],
   "source": [
    "data['Profit_per_month']=(15/100)*data['final_unpaid']*30"
   ]
  },
  {
   "cell_type": "code",
   "execution_count": 22,
   "metadata": {},
   "outputs": [],
   "source": [
    "data['Profit_per_year']=(15/100)*data['final_unpaid']*30*12"
   ]
  },
  {
   "cell_type": "code",
   "execution_count": 23,
   "metadata": {},
   "outputs": [
    {
     "data": {
      "text/html": [
       "<div>\n",
       "<style scoped>\n",
       "    .dataframe tbody tr th:only-of-type {\n",
       "        vertical-align: middle;\n",
       "    }\n",
       "\n",
       "    .dataframe tbody tr th {\n",
       "        vertical-align: top;\n",
       "    }\n",
       "\n",
       "    .dataframe thead th {\n",
       "        text-align: right;\n",
       "    }\n",
       "</style>\n",
       "<table border=\"1\" class=\"dataframe\">\n",
       "  <thead>\n",
       "    <tr style=\"text-align: right;\">\n",
       "      <th></th>\n",
       "      <th>card_balance</th>\n",
       "      <th>cost_of_funds</th>\n",
       "      <th>fund_unpaid</th>\n",
       "      <th>final_unpaid</th>\n",
       "      <th>Profit</th>\n",
       "      <th>Profit_per_day</th>\n",
       "      <th>Profit_per_month</th>\n",
       "      <th>Profit_per_year</th>\n",
       "    </tr>\n",
       "  </thead>\n",
       "  <tbody>\n",
       "    <tr>\n",
       "      <th>0</th>\n",
       "      <td>1000</td>\n",
       "      <td>200</td>\n",
       "      <td>0</td>\n",
       "      <td>55</td>\n",
       "      <td>8.25</td>\n",
       "      <td>8.25</td>\n",
       "      <td>247.5</td>\n",
       "      <td>2970.0</td>\n",
       "    </tr>\n",
       "    <tr>\n",
       "      <th>1</th>\n",
       "      <td>1200</td>\n",
       "      <td>1500</td>\n",
       "      <td>300</td>\n",
       "      <td>355</td>\n",
       "      <td>53.25</td>\n",
       "      <td>53.25</td>\n",
       "      <td>1597.5</td>\n",
       "      <td>19170.0</td>\n",
       "    </tr>\n",
       "    <tr>\n",
       "      <th>2</th>\n",
       "      <td>800</td>\n",
       "      <td>800</td>\n",
       "      <td>0</td>\n",
       "      <td>55</td>\n",
       "      <td>8.25</td>\n",
       "      <td>8.25</td>\n",
       "      <td>247.5</td>\n",
       "      <td>2970.0</td>\n",
       "    </tr>\n",
       "    <tr>\n",
       "      <th>3</th>\n",
       "      <td>1300</td>\n",
       "      <td>2300</td>\n",
       "      <td>1000</td>\n",
       "      <td>1055</td>\n",
       "      <td>158.25</td>\n",
       "      <td>158.25</td>\n",
       "      <td>4747.5</td>\n",
       "      <td>56970.0</td>\n",
       "    </tr>\n",
       "    <tr>\n",
       "      <th>4</th>\n",
       "      <td>700</td>\n",
       "      <td>200</td>\n",
       "      <td>0</td>\n",
       "      <td>55</td>\n",
       "      <td>8.25</td>\n",
       "      <td>8.25</td>\n",
       "      <td>247.5</td>\n",
       "      <td>2970.0</td>\n",
       "    </tr>\n",
       "    <tr>\n",
       "      <th>5</th>\n",
       "      <td>600</td>\n",
       "      <td>400</td>\n",
       "      <td>0</td>\n",
       "      <td>55</td>\n",
       "      <td>8.25</td>\n",
       "      <td>8.25</td>\n",
       "      <td>247.5</td>\n",
       "      <td>2970.0</td>\n",
       "    </tr>\n",
       "    <tr>\n",
       "      <th>6</th>\n",
       "      <td>1400</td>\n",
       "      <td>2000</td>\n",
       "      <td>600</td>\n",
       "      <td>655</td>\n",
       "      <td>98.25</td>\n",
       "      <td>98.25</td>\n",
       "      <td>2947.5</td>\n",
       "      <td>35370.0</td>\n",
       "    </tr>\n",
       "    <tr>\n",
       "      <th>7</th>\n",
       "      <td>1000</td>\n",
       "      <td>2000</td>\n",
       "      <td>1000</td>\n",
       "      <td>1055</td>\n",
       "      <td>158.25</td>\n",
       "      <td>158.25</td>\n",
       "      <td>4747.5</td>\n",
       "      <td>56970.0</td>\n",
       "    </tr>\n",
       "    <tr>\n",
       "      <th>8</th>\n",
       "      <td>1150</td>\n",
       "      <td>1500</td>\n",
       "      <td>350</td>\n",
       "      <td>405</td>\n",
       "      <td>60.75</td>\n",
       "      <td>60.75</td>\n",
       "      <td>1822.5</td>\n",
       "      <td>21870.0</td>\n",
       "    </tr>\n",
       "    <tr>\n",
       "      <th>9</th>\n",
       "      <td>850</td>\n",
       "      <td>500</td>\n",
       "      <td>0</td>\n",
       "      <td>55</td>\n",
       "      <td>8.25</td>\n",
       "      <td>8.25</td>\n",
       "      <td>247.5</td>\n",
       "      <td>2970.0</td>\n",
       "    </tr>\n",
       "  </tbody>\n",
       "</table>\n",
       "</div>"
      ],
      "text/plain": [
       "   card_balance  cost_of_funds  fund_unpaid  final_unpaid  Profit  \\\n",
       "0          1000            200            0            55    8.25   \n",
       "1          1200           1500          300           355   53.25   \n",
       "2           800            800            0            55    8.25   \n",
       "3          1300           2300         1000          1055  158.25   \n",
       "4           700            200            0            55    8.25   \n",
       "5           600            400            0            55    8.25   \n",
       "6          1400           2000          600           655   98.25   \n",
       "7          1000           2000         1000          1055  158.25   \n",
       "8          1150           1500          350           405   60.75   \n",
       "9           850            500            0            55    8.25   \n",
       "\n",
       "   Profit_per_day  Profit_per_month  Profit_per_year  \n",
       "0            8.25             247.5           2970.0  \n",
       "1           53.25            1597.5          19170.0  \n",
       "2            8.25             247.5           2970.0  \n",
       "3          158.25            4747.5          56970.0  \n",
       "4            8.25             247.5           2970.0  \n",
       "5            8.25             247.5           2970.0  \n",
       "6           98.25            2947.5          35370.0  \n",
       "7          158.25            4747.5          56970.0  \n",
       "8           60.75            1822.5          21870.0  \n",
       "9            8.25             247.5           2970.0  "
      ]
     },
     "execution_count": 23,
     "metadata": {},
     "output_type": "execute_result"
    }
   ],
   "source": [
    "data"
   ]
  },
  {
   "cell_type": "code",
   "execution_count": 17,
   "metadata": {},
   "outputs": [
    {
     "data": {
      "text/plain": [
       "10000"
      ]
     },
     "execution_count": 17,
     "metadata": {},
     "output_type": "execute_result"
    }
   ],
   "source": [
    "sum(data['card_balance'])"
   ]
  },
  {
   "cell_type": "code",
   "execution_count": 24,
   "metadata": {},
   "outputs": [
    {
     "data": {
      "text/plain": [
       "205200.0"
      ]
     },
     "execution_count": 24,
     "metadata": {},
     "output_type": "execute_result"
    }
   ],
   "source": [
    "sum(data['Profit_per_year'])"
   ]
  },
  {
   "cell_type": "code",
   "execution_count": 29,
   "metadata": {},
   "outputs": [
    {
     "data": {
      "text/plain": [
       "2052.0"
      ]
     },
     "execution_count": 29,
     "metadata": {},
     "output_type": "execute_result"
    }
   ],
   "source": [
    "#Profit_Percentage\n",
    "(sum(data['Profit_per_year'])/sum(data['card_balance']))*100"
   ]
  },
  {
   "cell_type": "code",
   "execution_count": 30,
   "metadata": {},
   "outputs": [],
   "source": [
    "#Insane profits."
   ]
  },
  {
   "cell_type": "code",
   "execution_count": 31,
   "metadata": {},
   "outputs": [],
   "source": [
    "import copy"
   ]
  },
  {
   "cell_type": "code",
   "execution_count": 32,
   "metadata": {},
   "outputs": [],
   "source": [
    "data1=data.copy()"
   ]
  },
  {
   "cell_type": "code",
   "execution_count": 35,
   "metadata": {},
   "outputs": [],
   "source": [
    "data1.card_balance=data['card_balance']+2000"
   ]
  },
  {
   "cell_type": "code",
   "execution_count": 36,
   "metadata": {},
   "outputs": [
    {
     "data": {
      "text/html": [
       "<div>\n",
       "<style scoped>\n",
       "    .dataframe tbody tr th:only-of-type {\n",
       "        vertical-align: middle;\n",
       "    }\n",
       "\n",
       "    .dataframe tbody tr th {\n",
       "        vertical-align: top;\n",
       "    }\n",
       "\n",
       "    .dataframe thead th {\n",
       "        text-align: right;\n",
       "    }\n",
       "</style>\n",
       "<table border=\"1\" class=\"dataframe\">\n",
       "  <thead>\n",
       "    <tr style=\"text-align: right;\">\n",
       "      <th></th>\n",
       "      <th>card_balance</th>\n",
       "      <th>cost_of_funds</th>\n",
       "      <th>fund_unpaid</th>\n",
       "      <th>final_unpaid</th>\n",
       "      <th>Profit</th>\n",
       "      <th>Profit_per_day</th>\n",
       "      <th>Profit_per_month</th>\n",
       "      <th>Profit_per_year</th>\n",
       "    </tr>\n",
       "  </thead>\n",
       "  <tbody>\n",
       "    <tr>\n",
       "      <th>0</th>\n",
       "      <td>3000</td>\n",
       "      <td>200</td>\n",
       "      <td>0</td>\n",
       "      <td>55</td>\n",
       "      <td>8.25</td>\n",
       "      <td>8.25</td>\n",
       "      <td>247.5</td>\n",
       "      <td>2970.0</td>\n",
       "    </tr>\n",
       "    <tr>\n",
       "      <th>1</th>\n",
       "      <td>3200</td>\n",
       "      <td>1500</td>\n",
       "      <td>300</td>\n",
       "      <td>355</td>\n",
       "      <td>53.25</td>\n",
       "      <td>53.25</td>\n",
       "      <td>1597.5</td>\n",
       "      <td>19170.0</td>\n",
       "    </tr>\n",
       "    <tr>\n",
       "      <th>2</th>\n",
       "      <td>2800</td>\n",
       "      <td>800</td>\n",
       "      <td>0</td>\n",
       "      <td>55</td>\n",
       "      <td>8.25</td>\n",
       "      <td>8.25</td>\n",
       "      <td>247.5</td>\n",
       "      <td>2970.0</td>\n",
       "    </tr>\n",
       "    <tr>\n",
       "      <th>3</th>\n",
       "      <td>3300</td>\n",
       "      <td>2300</td>\n",
       "      <td>1000</td>\n",
       "      <td>1055</td>\n",
       "      <td>158.25</td>\n",
       "      <td>158.25</td>\n",
       "      <td>4747.5</td>\n",
       "      <td>56970.0</td>\n",
       "    </tr>\n",
       "    <tr>\n",
       "      <th>4</th>\n",
       "      <td>2700</td>\n",
       "      <td>200</td>\n",
       "      <td>0</td>\n",
       "      <td>55</td>\n",
       "      <td>8.25</td>\n",
       "      <td>8.25</td>\n",
       "      <td>247.5</td>\n",
       "      <td>2970.0</td>\n",
       "    </tr>\n",
       "    <tr>\n",
       "      <th>5</th>\n",
       "      <td>2600</td>\n",
       "      <td>400</td>\n",
       "      <td>0</td>\n",
       "      <td>55</td>\n",
       "      <td>8.25</td>\n",
       "      <td>8.25</td>\n",
       "      <td>247.5</td>\n",
       "      <td>2970.0</td>\n",
       "    </tr>\n",
       "    <tr>\n",
       "      <th>6</th>\n",
       "      <td>3400</td>\n",
       "      <td>2000</td>\n",
       "      <td>600</td>\n",
       "      <td>655</td>\n",
       "      <td>98.25</td>\n",
       "      <td>98.25</td>\n",
       "      <td>2947.5</td>\n",
       "      <td>35370.0</td>\n",
       "    </tr>\n",
       "    <tr>\n",
       "      <th>7</th>\n",
       "      <td>3000</td>\n",
       "      <td>2000</td>\n",
       "      <td>1000</td>\n",
       "      <td>1055</td>\n",
       "      <td>158.25</td>\n",
       "      <td>158.25</td>\n",
       "      <td>4747.5</td>\n",
       "      <td>56970.0</td>\n",
       "    </tr>\n",
       "    <tr>\n",
       "      <th>8</th>\n",
       "      <td>3150</td>\n",
       "      <td>1500</td>\n",
       "      <td>350</td>\n",
       "      <td>405</td>\n",
       "      <td>60.75</td>\n",
       "      <td>60.75</td>\n",
       "      <td>1822.5</td>\n",
       "      <td>21870.0</td>\n",
       "    </tr>\n",
       "    <tr>\n",
       "      <th>9</th>\n",
       "      <td>2850</td>\n",
       "      <td>500</td>\n",
       "      <td>0</td>\n",
       "      <td>55</td>\n",
       "      <td>8.25</td>\n",
       "      <td>8.25</td>\n",
       "      <td>247.5</td>\n",
       "      <td>2970.0</td>\n",
       "    </tr>\n",
       "  </tbody>\n",
       "</table>\n",
       "</div>"
      ],
      "text/plain": [
       "   card_balance  cost_of_funds  fund_unpaid  final_unpaid  Profit  \\\n",
       "0          3000            200            0            55    8.25   \n",
       "1          3200           1500          300           355   53.25   \n",
       "2          2800            800            0            55    8.25   \n",
       "3          3300           2300         1000          1055  158.25   \n",
       "4          2700            200            0            55    8.25   \n",
       "5          2600            400            0            55    8.25   \n",
       "6          3400           2000          600           655   98.25   \n",
       "7          3000           2000         1000          1055  158.25   \n",
       "8          3150           1500          350           405   60.75   \n",
       "9          2850            500            0            55    8.25   \n",
       "\n",
       "   Profit_per_day  Profit_per_month  Profit_per_year  \n",
       "0            8.25             247.5           2970.0  \n",
       "1           53.25            1597.5          19170.0  \n",
       "2            8.25             247.5           2970.0  \n",
       "3          158.25            4747.5          56970.0  \n",
       "4            8.25             247.5           2970.0  \n",
       "5            8.25             247.5           2970.0  \n",
       "6           98.25            2947.5          35370.0  \n",
       "7          158.25            4747.5          56970.0  \n",
       "8           60.75            1822.5          21870.0  \n",
       "9            8.25             247.5           2970.0  "
      ]
     },
     "execution_count": 36,
     "metadata": {},
     "output_type": "execute_result"
    }
   ],
   "source": [
    "data1"
   ]
  },
  {
   "cell_type": "code",
   "execution_count": 38,
   "metadata": {},
   "outputs": [
    {
     "data": {
      "text/plain": [
       "900.0"
      ]
     },
     "execution_count": 38,
     "metadata": {},
     "output_type": "execute_result"
    }
   ],
   "source": [
    "(sum(data1['card_balance'])*(3/100))"
   ]
  },
  {
   "cell_type": "code",
   "execution_count": 39,
   "metadata": {},
   "outputs": [
    {
     "data": {
      "text/plain": [
       "300.0"
      ]
     },
     "execution_count": 39,
     "metadata": {},
     "output_type": "execute_result"
    }
   ],
   "source": [
    "(sum(data['card_balance'])*(3/100))"
   ]
  },
  {
   "cell_type": "code",
   "execution_count": null,
   "metadata": {},
   "outputs": [],
   "source": [
    "#The loss percentage got trippled."
   ]
  },
  {
   "cell_type": "raw",
   "metadata": {},
   "source": [
    "Is a borrower with a low balance more or less likely to default then a borrower with a high balance? \n",
    "Why ? Explain clearly."
   ]
  },
  {
   "cell_type": "raw",
   "metadata": {},
   "source": [
    "Suppose if we create a ditribution with the bank balances of all the loan takers then due to central limit theorem it will follow normal distribution. Statistically speaking we will create a hypothesis where alternate hypothesis is customer will not default a loan and null hypothesis is customer will default a loan. This is a two tailed test . Whenver my bank balance is at extremes such that extremely high or extremely lo ,Absolute p-value is less than 0.05 in standard normal distribution. This means we reject the null hypothesis.\n",
    "And alternate hypothesis becomes true.\n",
    "That means customer is likely to default the loan whenever absolute t-dist>1.96 and absolute pvalue is less than 0.05.\n",
    "That is when balance is extremely high or extremely low my loan taker is expected to create a default."
   ]
  },
  {
   "cell_type": "raw",
   "metadata": {},
   "source": [
    "Q5: The group company has now become unhappy with the credit card provider. it wants to start its own credit card. But for that, it will need to purchase the customers from the current credit card company. If the affilated group offered Rs 20 per account to purchase all the customers from the credit card company, what would there profit be? (assume that we are only talking about 1 year)"
   ]
  },
  {
   "cell_type": "markdown",
   "metadata": {},
   "source": [
    "In this case the final unpaid amount is reduced by 20 rs ."
   ]
  },
  {
   "cell_type": "code",
   "execution_count": 40,
   "metadata": {},
   "outputs": [],
   "source": [
    "data3=data.copy()"
   ]
  },
  {
   "cell_type": "code",
   "execution_count": 42,
   "metadata": {},
   "outputs": [],
   "source": [
    "data3['final_unpaid']=data3['final_unpaid']-20"
   ]
  },
  {
   "cell_type": "code",
   "execution_count": 43,
   "metadata": {},
   "outputs": [
    {
     "data": {
      "text/html": [
       "<div>\n",
       "<style scoped>\n",
       "    .dataframe tbody tr th:only-of-type {\n",
       "        vertical-align: middle;\n",
       "    }\n",
       "\n",
       "    .dataframe tbody tr th {\n",
       "        vertical-align: top;\n",
       "    }\n",
       "\n",
       "    .dataframe thead th {\n",
       "        text-align: right;\n",
       "    }\n",
       "</style>\n",
       "<table border=\"1\" class=\"dataframe\">\n",
       "  <thead>\n",
       "    <tr style=\"text-align: right;\">\n",
       "      <th></th>\n",
       "      <th>card_balance</th>\n",
       "      <th>cost_of_funds</th>\n",
       "      <th>fund_unpaid</th>\n",
       "      <th>final_unpaid</th>\n",
       "      <th>Profit</th>\n",
       "      <th>Profit_per_day</th>\n",
       "      <th>Profit_per_month</th>\n",
       "      <th>Profit_per_year</th>\n",
       "    </tr>\n",
       "  </thead>\n",
       "  <tbody>\n",
       "    <tr>\n",
       "      <th>0</th>\n",
       "      <td>1000</td>\n",
       "      <td>200</td>\n",
       "      <td>0</td>\n",
       "      <td>35</td>\n",
       "      <td>8.25</td>\n",
       "      <td>8.25</td>\n",
       "      <td>247.5</td>\n",
       "      <td>2970.0</td>\n",
       "    </tr>\n",
       "    <tr>\n",
       "      <th>1</th>\n",
       "      <td>1200</td>\n",
       "      <td>1500</td>\n",
       "      <td>300</td>\n",
       "      <td>335</td>\n",
       "      <td>53.25</td>\n",
       "      <td>53.25</td>\n",
       "      <td>1597.5</td>\n",
       "      <td>19170.0</td>\n",
       "    </tr>\n",
       "    <tr>\n",
       "      <th>2</th>\n",
       "      <td>800</td>\n",
       "      <td>800</td>\n",
       "      <td>0</td>\n",
       "      <td>35</td>\n",
       "      <td>8.25</td>\n",
       "      <td>8.25</td>\n",
       "      <td>247.5</td>\n",
       "      <td>2970.0</td>\n",
       "    </tr>\n",
       "    <tr>\n",
       "      <th>3</th>\n",
       "      <td>1300</td>\n",
       "      <td>2300</td>\n",
       "      <td>1000</td>\n",
       "      <td>1035</td>\n",
       "      <td>158.25</td>\n",
       "      <td>158.25</td>\n",
       "      <td>4747.5</td>\n",
       "      <td>56970.0</td>\n",
       "    </tr>\n",
       "    <tr>\n",
       "      <th>4</th>\n",
       "      <td>700</td>\n",
       "      <td>200</td>\n",
       "      <td>0</td>\n",
       "      <td>35</td>\n",
       "      <td>8.25</td>\n",
       "      <td>8.25</td>\n",
       "      <td>247.5</td>\n",
       "      <td>2970.0</td>\n",
       "    </tr>\n",
       "    <tr>\n",
       "      <th>5</th>\n",
       "      <td>600</td>\n",
       "      <td>400</td>\n",
       "      <td>0</td>\n",
       "      <td>35</td>\n",
       "      <td>8.25</td>\n",
       "      <td>8.25</td>\n",
       "      <td>247.5</td>\n",
       "      <td>2970.0</td>\n",
       "    </tr>\n",
       "    <tr>\n",
       "      <th>6</th>\n",
       "      <td>1400</td>\n",
       "      <td>2000</td>\n",
       "      <td>600</td>\n",
       "      <td>635</td>\n",
       "      <td>98.25</td>\n",
       "      <td>98.25</td>\n",
       "      <td>2947.5</td>\n",
       "      <td>35370.0</td>\n",
       "    </tr>\n",
       "    <tr>\n",
       "      <th>7</th>\n",
       "      <td>1000</td>\n",
       "      <td>2000</td>\n",
       "      <td>1000</td>\n",
       "      <td>1035</td>\n",
       "      <td>158.25</td>\n",
       "      <td>158.25</td>\n",
       "      <td>4747.5</td>\n",
       "      <td>56970.0</td>\n",
       "    </tr>\n",
       "    <tr>\n",
       "      <th>8</th>\n",
       "      <td>1150</td>\n",
       "      <td>1500</td>\n",
       "      <td>350</td>\n",
       "      <td>385</td>\n",
       "      <td>60.75</td>\n",
       "      <td>60.75</td>\n",
       "      <td>1822.5</td>\n",
       "      <td>21870.0</td>\n",
       "    </tr>\n",
       "    <tr>\n",
       "      <th>9</th>\n",
       "      <td>850</td>\n",
       "      <td>500</td>\n",
       "      <td>0</td>\n",
       "      <td>35</td>\n",
       "      <td>8.25</td>\n",
       "      <td>8.25</td>\n",
       "      <td>247.5</td>\n",
       "      <td>2970.0</td>\n",
       "    </tr>\n",
       "  </tbody>\n",
       "</table>\n",
       "</div>"
      ],
      "text/plain": [
       "   card_balance  cost_of_funds  fund_unpaid  final_unpaid  Profit  \\\n",
       "0          1000            200            0            35    8.25   \n",
       "1          1200           1500          300           335   53.25   \n",
       "2           800            800            0            35    8.25   \n",
       "3          1300           2300         1000          1035  158.25   \n",
       "4           700            200            0            35    8.25   \n",
       "5           600            400            0            35    8.25   \n",
       "6          1400           2000          600           635   98.25   \n",
       "7          1000           2000         1000          1035  158.25   \n",
       "8          1150           1500          350           385   60.75   \n",
       "9           850            500            0            35    8.25   \n",
       "\n",
       "   Profit_per_day  Profit_per_month  Profit_per_year  \n",
       "0            8.25             247.5           2970.0  \n",
       "1           53.25            1597.5          19170.0  \n",
       "2            8.25             247.5           2970.0  \n",
       "3          158.25            4747.5          56970.0  \n",
       "4            8.25             247.5           2970.0  \n",
       "5            8.25             247.5           2970.0  \n",
       "6           98.25            2947.5          35370.0  \n",
       "7          158.25            4747.5          56970.0  \n",
       "8           60.75            1822.5          21870.0  \n",
       "9            8.25             247.5           2970.0  "
      ]
     },
     "execution_count": 43,
     "metadata": {},
     "output_type": "execute_result"
    }
   ],
   "source": [
    "data3"
   ]
  },
  {
   "cell_type": "code",
   "execution_count": 44,
   "metadata": {},
   "outputs": [],
   "source": [
    "data3['Profit_per_day']=(15/100)*data3['final_unpaid']"
   ]
  },
  {
   "cell_type": "code",
   "execution_count": 49,
   "metadata": {},
   "outputs": [],
   "source": [
    "data3['Profit_per_month']=(15/100)*data3['final_unpaid']*30"
   ]
  },
  {
   "cell_type": "code",
   "execution_count": 50,
   "metadata": {},
   "outputs": [],
   "source": [
    "data3['Profit_per_year']=(15/100)*data3['final_unpaid']*30*12"
   ]
  },
  {
   "cell_type": "code",
   "execution_count": 51,
   "metadata": {},
   "outputs": [
    {
     "data": {
      "text/html": [
       "<div>\n",
       "<style scoped>\n",
       "    .dataframe tbody tr th:only-of-type {\n",
       "        vertical-align: middle;\n",
       "    }\n",
       "\n",
       "    .dataframe tbody tr th {\n",
       "        vertical-align: top;\n",
       "    }\n",
       "\n",
       "    .dataframe thead th {\n",
       "        text-align: right;\n",
       "    }\n",
       "</style>\n",
       "<table border=\"1\" class=\"dataframe\">\n",
       "  <thead>\n",
       "    <tr style=\"text-align: right;\">\n",
       "      <th></th>\n",
       "      <th>card_balance</th>\n",
       "      <th>cost_of_funds</th>\n",
       "      <th>fund_unpaid</th>\n",
       "      <th>final_unpaid</th>\n",
       "      <th>Profit</th>\n",
       "      <th>Profit_per_day</th>\n",
       "      <th>Profit_per_month</th>\n",
       "      <th>Profit_per_year</th>\n",
       "    </tr>\n",
       "  </thead>\n",
       "  <tbody>\n",
       "    <tr>\n",
       "      <th>0</th>\n",
       "      <td>1000</td>\n",
       "      <td>200</td>\n",
       "      <td>0</td>\n",
       "      <td>35</td>\n",
       "      <td>8.25</td>\n",
       "      <td>5.25</td>\n",
       "      <td>157.5</td>\n",
       "      <td>1890.0</td>\n",
       "    </tr>\n",
       "    <tr>\n",
       "      <th>1</th>\n",
       "      <td>1200</td>\n",
       "      <td>1500</td>\n",
       "      <td>300</td>\n",
       "      <td>335</td>\n",
       "      <td>53.25</td>\n",
       "      <td>50.25</td>\n",
       "      <td>1507.5</td>\n",
       "      <td>18090.0</td>\n",
       "    </tr>\n",
       "    <tr>\n",
       "      <th>2</th>\n",
       "      <td>800</td>\n",
       "      <td>800</td>\n",
       "      <td>0</td>\n",
       "      <td>35</td>\n",
       "      <td>8.25</td>\n",
       "      <td>5.25</td>\n",
       "      <td>157.5</td>\n",
       "      <td>1890.0</td>\n",
       "    </tr>\n",
       "    <tr>\n",
       "      <th>3</th>\n",
       "      <td>1300</td>\n",
       "      <td>2300</td>\n",
       "      <td>1000</td>\n",
       "      <td>1035</td>\n",
       "      <td>158.25</td>\n",
       "      <td>155.25</td>\n",
       "      <td>4657.5</td>\n",
       "      <td>55890.0</td>\n",
       "    </tr>\n",
       "    <tr>\n",
       "      <th>4</th>\n",
       "      <td>700</td>\n",
       "      <td>200</td>\n",
       "      <td>0</td>\n",
       "      <td>35</td>\n",
       "      <td>8.25</td>\n",
       "      <td>5.25</td>\n",
       "      <td>157.5</td>\n",
       "      <td>1890.0</td>\n",
       "    </tr>\n",
       "    <tr>\n",
       "      <th>5</th>\n",
       "      <td>600</td>\n",
       "      <td>400</td>\n",
       "      <td>0</td>\n",
       "      <td>35</td>\n",
       "      <td>8.25</td>\n",
       "      <td>5.25</td>\n",
       "      <td>157.5</td>\n",
       "      <td>1890.0</td>\n",
       "    </tr>\n",
       "    <tr>\n",
       "      <th>6</th>\n",
       "      <td>1400</td>\n",
       "      <td>2000</td>\n",
       "      <td>600</td>\n",
       "      <td>635</td>\n",
       "      <td>98.25</td>\n",
       "      <td>95.25</td>\n",
       "      <td>2857.5</td>\n",
       "      <td>34290.0</td>\n",
       "    </tr>\n",
       "    <tr>\n",
       "      <th>7</th>\n",
       "      <td>1000</td>\n",
       "      <td>2000</td>\n",
       "      <td>1000</td>\n",
       "      <td>1035</td>\n",
       "      <td>158.25</td>\n",
       "      <td>155.25</td>\n",
       "      <td>4657.5</td>\n",
       "      <td>55890.0</td>\n",
       "    </tr>\n",
       "    <tr>\n",
       "      <th>8</th>\n",
       "      <td>1150</td>\n",
       "      <td>1500</td>\n",
       "      <td>350</td>\n",
       "      <td>385</td>\n",
       "      <td>60.75</td>\n",
       "      <td>57.75</td>\n",
       "      <td>1732.5</td>\n",
       "      <td>20790.0</td>\n",
       "    </tr>\n",
       "    <tr>\n",
       "      <th>9</th>\n",
       "      <td>850</td>\n",
       "      <td>500</td>\n",
       "      <td>0</td>\n",
       "      <td>35</td>\n",
       "      <td>8.25</td>\n",
       "      <td>5.25</td>\n",
       "      <td>157.5</td>\n",
       "      <td>1890.0</td>\n",
       "    </tr>\n",
       "  </tbody>\n",
       "</table>\n",
       "</div>"
      ],
      "text/plain": [
       "   card_balance  cost_of_funds  fund_unpaid  final_unpaid  Profit  \\\n",
       "0          1000            200            0            35    8.25   \n",
       "1          1200           1500          300           335   53.25   \n",
       "2           800            800            0            35    8.25   \n",
       "3          1300           2300         1000          1035  158.25   \n",
       "4           700            200            0            35    8.25   \n",
       "5           600            400            0            35    8.25   \n",
       "6          1400           2000          600           635   98.25   \n",
       "7          1000           2000         1000          1035  158.25   \n",
       "8          1150           1500          350           385   60.75   \n",
       "9           850            500            0            35    8.25   \n",
       "\n",
       "   Profit_per_day  Profit_per_month  Profit_per_year  \n",
       "0            5.25             157.5           1890.0  \n",
       "1           50.25            1507.5          18090.0  \n",
       "2            5.25             157.5           1890.0  \n",
       "3          155.25            4657.5          55890.0  \n",
       "4            5.25             157.5           1890.0  \n",
       "5            5.25             157.5           1890.0  \n",
       "6           95.25            2857.5          34290.0  \n",
       "7          155.25            4657.5          55890.0  \n",
       "8           57.75            1732.5          20790.0  \n",
       "9            5.25             157.5           1890.0  "
      ]
     },
     "execution_count": 51,
     "metadata": {},
     "output_type": "execute_result"
    }
   ],
   "source": [
    "data3"
   ]
  },
  {
   "cell_type": "code",
   "execution_count": 52,
   "metadata": {},
   "outputs": [
    {
     "data": {
      "text/plain": [
       "1944.0000000000002"
      ]
     },
     "execution_count": 52,
     "metadata": {},
     "output_type": "execute_result"
    }
   ],
   "source": [
    "#Profit_Percentage\n",
    "(sum(data3['Profit_per_year'])/sum(data3['card_balance']))*100"
   ]
  },
  {
   "cell_type": "code",
   "execution_count": null,
   "metadata": {},
   "outputs": [],
   "source": [
    "Ques 6:"
   ]
  },
  {
   "cell_type": "code",
   "execution_count": 54,
   "metadata": {},
   "outputs": [
    {
     "data": {
      "text/html": [
       "<div>\n",
       "<style scoped>\n",
       "    .dataframe tbody tr th:only-of-type {\n",
       "        vertical-align: middle;\n",
       "    }\n",
       "\n",
       "    .dataframe tbody tr th {\n",
       "        vertical-align: top;\n",
       "    }\n",
       "\n",
       "    .dataframe thead th {\n",
       "        text-align: right;\n",
       "    }\n",
       "</style>\n",
       "<table border=\"1\" class=\"dataframe\">\n",
       "  <thead>\n",
       "    <tr style=\"text-align: right;\">\n",
       "      <th></th>\n",
       "      <th>card_balance</th>\n",
       "      <th>cost_of_funds</th>\n",
       "      <th>fund_unpaid</th>\n",
       "      <th>final_unpaid</th>\n",
       "      <th>Profit</th>\n",
       "      <th>Profit_per_day</th>\n",
       "      <th>Profit_per_month</th>\n",
       "      <th>Profit_per_year</th>\n",
       "    </tr>\n",
       "  </thead>\n",
       "  <tbody>\n",
       "    <tr>\n",
       "      <th>0</th>\n",
       "      <td>1000</td>\n",
       "      <td>200</td>\n",
       "      <td>0</td>\n",
       "      <td>55</td>\n",
       "      <td>8.25</td>\n",
       "      <td>8.25</td>\n",
       "      <td>247.5</td>\n",
       "      <td>2970.0</td>\n",
       "    </tr>\n",
       "    <tr>\n",
       "      <th>1</th>\n",
       "      <td>1200</td>\n",
       "      <td>1500</td>\n",
       "      <td>300</td>\n",
       "      <td>355</td>\n",
       "      <td>53.25</td>\n",
       "      <td>53.25</td>\n",
       "      <td>1597.5</td>\n",
       "      <td>19170.0</td>\n",
       "    </tr>\n",
       "    <tr>\n",
       "      <th>2</th>\n",
       "      <td>800</td>\n",
       "      <td>800</td>\n",
       "      <td>0</td>\n",
       "      <td>55</td>\n",
       "      <td>8.25</td>\n",
       "      <td>8.25</td>\n",
       "      <td>247.5</td>\n",
       "      <td>2970.0</td>\n",
       "    </tr>\n",
       "    <tr>\n",
       "      <th>3</th>\n",
       "      <td>1300</td>\n",
       "      <td>2300</td>\n",
       "      <td>1000</td>\n",
       "      <td>1055</td>\n",
       "      <td>158.25</td>\n",
       "      <td>158.25</td>\n",
       "      <td>4747.5</td>\n",
       "      <td>56970.0</td>\n",
       "    </tr>\n",
       "    <tr>\n",
       "      <th>4</th>\n",
       "      <td>700</td>\n",
       "      <td>200</td>\n",
       "      <td>0</td>\n",
       "      <td>55</td>\n",
       "      <td>8.25</td>\n",
       "      <td>8.25</td>\n",
       "      <td>247.5</td>\n",
       "      <td>2970.0</td>\n",
       "    </tr>\n",
       "    <tr>\n",
       "      <th>5</th>\n",
       "      <td>600</td>\n",
       "      <td>400</td>\n",
       "      <td>0</td>\n",
       "      <td>55</td>\n",
       "      <td>8.25</td>\n",
       "      <td>8.25</td>\n",
       "      <td>247.5</td>\n",
       "      <td>2970.0</td>\n",
       "    </tr>\n",
       "    <tr>\n",
       "      <th>6</th>\n",
       "      <td>1400</td>\n",
       "      <td>2000</td>\n",
       "      <td>600</td>\n",
       "      <td>655</td>\n",
       "      <td>98.25</td>\n",
       "      <td>98.25</td>\n",
       "      <td>2947.5</td>\n",
       "      <td>35370.0</td>\n",
       "    </tr>\n",
       "    <tr>\n",
       "      <th>7</th>\n",
       "      <td>1000</td>\n",
       "      <td>2000</td>\n",
       "      <td>1000</td>\n",
       "      <td>1055</td>\n",
       "      <td>158.25</td>\n",
       "      <td>158.25</td>\n",
       "      <td>4747.5</td>\n",
       "      <td>56970.0</td>\n",
       "    </tr>\n",
       "    <tr>\n",
       "      <th>8</th>\n",
       "      <td>1150</td>\n",
       "      <td>1500</td>\n",
       "      <td>350</td>\n",
       "      <td>405</td>\n",
       "      <td>60.75</td>\n",
       "      <td>60.75</td>\n",
       "      <td>1822.5</td>\n",
       "      <td>21870.0</td>\n",
       "    </tr>\n",
       "    <tr>\n",
       "      <th>9</th>\n",
       "      <td>850</td>\n",
       "      <td>500</td>\n",
       "      <td>0</td>\n",
       "      <td>55</td>\n",
       "      <td>8.25</td>\n",
       "      <td>8.25</td>\n",
       "      <td>247.5</td>\n",
       "      <td>2970.0</td>\n",
       "    </tr>\n",
       "  </tbody>\n",
       "</table>\n",
       "</div>"
      ],
      "text/plain": [
       "   card_balance  cost_of_funds  fund_unpaid  final_unpaid  Profit  \\\n",
       "0          1000            200            0            55    8.25   \n",
       "1          1200           1500          300           355   53.25   \n",
       "2           800            800            0            55    8.25   \n",
       "3          1300           2300         1000          1055  158.25   \n",
       "4           700            200            0            55    8.25   \n",
       "5           600            400            0            55    8.25   \n",
       "6          1400           2000          600           655   98.25   \n",
       "7          1000           2000         1000          1055  158.25   \n",
       "8          1150           1500          350           405   60.75   \n",
       "9           850            500            0            55    8.25   \n",
       "\n",
       "   Profit_per_day  Profit_per_month  Profit_per_year  \n",
       "0            8.25             247.5           2970.0  \n",
       "1           53.25            1597.5          19170.0  \n",
       "2            8.25             247.5           2970.0  \n",
       "3          158.25            4747.5          56970.0  \n",
       "4            8.25             247.5           2970.0  \n",
       "5            8.25             247.5           2970.0  \n",
       "6           98.25            2947.5          35370.0  \n",
       "7          158.25            4747.5          56970.0  \n",
       "8           60.75            1822.5          21870.0  \n",
       "9            8.25             247.5           2970.0  "
      ]
     },
     "execution_count": 54,
     "metadata": {},
     "output_type": "execute_result"
    }
   ],
   "source": [
    "data"
   ]
  },
  {
   "cell_type": "raw",
   "metadata": {},
   "source": [
    "For the people not willing to pay we can reduce the interests rate to 2-5%."
   ]
  },
  {
   "cell_type": "code",
   "execution_count": null,
   "metadata": {},
   "outputs": [],
   "source": [
    "#End"
   ]
  },
  {
   "cell_type": "code",
   "execution_count": null,
   "metadata": {},
   "outputs": [],
   "source": []
  }
 ],
 "metadata": {
  "kernelspec": {
   "display_name": "Python 3",
   "language": "python",
   "name": "python3"
  },
  "language_info": {
   "codemirror_mode": {
    "name": "ipython",
    "version": 3
   },
   "file_extension": ".py",
   "mimetype": "text/x-python",
   "name": "python",
   "nbconvert_exporter": "python",
   "pygments_lexer": "ipython3",
   "version": "3.7.1"
  }
 },
 "nbformat": 4,
 "nbformat_minor": 2
}
